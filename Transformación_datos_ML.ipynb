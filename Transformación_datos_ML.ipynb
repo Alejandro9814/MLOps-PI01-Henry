{
 "cells": [
  {
   "cell_type": "code",
   "execution_count": 24,
   "metadata": {},
   "outputs": [],
   "source": [
    "import pandas as pd\n",
    "import numpy as np"
   ]
  },
  {
   "cell_type": "code",
   "execution_count": 25,
   "metadata": {},
   "outputs": [],
   "source": [
    "# Con los datos limpios y transformados anteriormente creamos dataframes de las tablas y sus tablas intermedias para poder relacionarlas\n",
    "\n",
    "df_movies = pd.read_parquet(\"DataSet/Movies.parquet\", engine= \"pyarrow\", columns=[\"idMovies\", \"title\", \"idCollection\"])\n",
    "df_genres = pd.read_parquet(\"DataSet/Genres.parquet\", engine= \"pyarrow\")\n",
    "df_actors = pd.read_parquet(\"DataSet/Cast_Movies.parquet\", engine= \"pyarrow\")\n",
    "df_directors = pd.read_parquet(\"DataSet/Director_Movies.parquet\", engine= \"pyarrow\")\n",
    "df_collentions = pd.read_parquet(\"DataSet/Collections.parquet\", engine= \"pyarrow\")\n",
    "\n",
    "df_genres_movies = pd.read_parquet(\"DataSet/Relation_Movies_Genres.parquet\", engine= \"pyarrow\")\n",
    "df_movies_actors = pd.read_parquet(\"DataSet/Relation_Cast_Movies.parquet\", engine= \"pyarrow\")\n",
    "df_movies_directors = pd.read_parquet(\"DataSet/Relation_Director_Movies.parquet\", engine= \"pyarrow\")"
   ]
  },
  {
   "cell_type": "code",
   "execution_count": 26,
   "metadata": {},
   "outputs": [],
   "source": [
    "df_final = df_movies.copy()"
   ]
  },
  {
   "cell_type": "code",
   "execution_count": 27,
   "metadata": {},
   "outputs": [],
   "source": [
    "# Generamos una tabla \n",
    "\n",
    "df_final = df_movies.merge(df_movies_actors, on='idMovies', how='left')\n",
    "df_final = df_final.merge(df_actors, on='idCast', how='left')\n",
    "df_final = df_final.merge(df_movies_directors, on=\"idMovies\", how=\"left\")\n",
    "df_final = df_final.merge(df_directors, on=\"idCrew\", how=\"left\")\n",
    "df_final = df_final.merge(df_genres_movies, on=\"idMovies\", how=\"left\")\n",
    "df_final = df_final.merge(df_genres, on=\"idGenres\", how=\"left\")\n",
    "df_final = df_final.merge(df_collentions, on= \"idCollection\", how= \"left\")"
   ]
  },
  {
   "cell_type": "code",
   "execution_count": 28,
   "metadata": {},
   "outputs": [],
   "source": [
    "df_final = df_final.groupby(\"idMovies\").agg({\n",
    "    \"title\": \"first\",\n",
    "    \"nameCollection\": \"first\",\n",
    "    \"nameCast\": lambda x: \" \".join(x.dropna().unique()),\n",
    "    \"nameCrew\": lambda x: \" \".join(x.dropna().unique()),\n",
    "    \"nameGenres\": lambda x: \" \".join(x.dropna().unique())\n",
    "}).reset_index()"
   ]
  },
  {
   "cell_type": "code",
   "execution_count": 29,
   "metadata": {},
   "outputs": [],
   "source": [
    "df_final = df_final.fillna(\"\")"
   ]
  },
  {
   "cell_type": "code",
   "execution_count": 30,
   "metadata": {},
   "outputs": [],
   "source": [
    "df_final[\"combined_features\"] = (\n",
    "    df_final[\"title\"] + \" \" + \n",
    "    df_final[\"nameCollection\"] + \" \" +\n",
    "    df_final[\"nameCast\"] + \" \" + \n",
    "    df_final[\"nameCrew\"] + \" \" + \n",
    "    df_final[\"nameGenres\"] + \" \" \n",
    ").str.strip()"
   ]
  },
  {
   "cell_type": "code",
   "execution_count": 31,
   "metadata": {},
   "outputs": [],
   "source": [
    "df_to_ML = df_final[[\"title\",\"combined_features\"]]"
   ]
  },
  {
   "cell_type": "code",
   "execution_count": 32,
   "metadata": {},
   "outputs": [],
   "source": [
    "df_to_ML.to_parquet(\"DataSet/Data-to-ML.parquet\", engine= \"pyarrow\", index= False)"
   ]
  },
  {
   "cell_type": "code",
   "execution_count": null,
   "metadata": {},
   "outputs": [],
   "source": [
    "from sklearn.feature_extraction.text import TfidfVectorizer \n",
    "\n",
    "#Vectorizamos los caracteres de la columna combined_features\n",
    "tfidf = TfidfVectorizer(stop_words=\"english\")\n",
    "tfidf_matrix = tfidf.fit_transform(df_to_ML[\"combined_features\"])"
   ]
  },
  {
   "cell_type": "code",
   "execution_count": null,
   "metadata": {},
   "outputs": [],
   "source": [
    "from sklearn.metrics.pairwise import cosine_similarity\n",
    "#Calculamos la similitud del coseno con la matriz que contiene los vectores.\n",
    "cosine_sim = cosine_similarity(tfidf_matrix, tfidf_matrix)"
   ]
  }
 ],
 "metadata": {
  "kernelspec": {
   "display_name": "entorno_PI_1",
   "language": "python",
   "name": "python3"
  },
  "language_info": {
   "codemirror_mode": {
    "name": "ipython",
    "version": 3
   },
   "file_extension": ".py",
   "mimetype": "text/x-python",
   "name": "python",
   "nbconvert_exporter": "python",
   "pygments_lexer": "ipython3",
   "version": "3.10.11"
  }
 },
 "nbformat": 4,
 "nbformat_minor": 2
}
